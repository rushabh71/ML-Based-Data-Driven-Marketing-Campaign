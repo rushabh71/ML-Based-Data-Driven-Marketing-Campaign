{
 "cells": [
  {
   "cell_type": "markdown",
   "metadata": {},
   "source": [
    "# Customer Retention Metrics"
   ]
  },
  {
   "cell_type": "markdown",
   "metadata": {},
   "source": [
    "The processes required to discover and document how well a corporation retains customers are referred to as customer retention measurement. Organizations measure their effectiveness in this area to see how well they are serving client needs and whether they are earning their business over time.\n",
    "\n",
    "In this part, we will examine and contrast some of the customer retention indicators that are relevant to maintaining clients from past campaigns.\n"
   ]
  },
  {
   "cell_type": "code",
   "execution_count": 66,
   "metadata": {},
   "outputs": [],
   "source": [
    "from datetime import datetime, timedelta\n",
    "from sklearn.cluster import KMeans\n",
    "import pandas as pd\n",
    "import numpy as np\n",
    "import seaborn as sns\n",
    "import matplotlib.pyplot as plt\n",
    "import warnings\n",
    "\n",
    "%matplotlib inline\n",
    "warnings.filterwarnings(\"ignore\")"
   ]
  },
  {
   "cell_type": "code",
   "execution_count": 67,
   "metadata": {},
   "outputs": [],
   "source": [
    "df=pd.read_csv('segmentation_data.csv')"
   ]
  },
  {
   "cell_type": "code",
   "execution_count": 68,
   "metadata": {},
   "outputs": [
    {
     "data": {
      "text/html": [
       "<div>\n",
       "<style scoped>\n",
       "    .dataframe tbody tr th:only-of-type {\n",
       "        vertical-align: middle;\n",
       "    }\n",
       "\n",
       "    .dataframe tbody tr th {\n",
       "        vertical-align: top;\n",
       "    }\n",
       "\n",
       "    .dataframe thead th {\n",
       "        text-align: right;\n",
       "    }\n",
       "</style>\n",
       "<table border=\"1\" class=\"dataframe\">\n",
       "  <thead>\n",
       "    <tr style=\"text-align: right;\">\n",
       "      <th></th>\n",
       "      <th>id</th>\n",
       "      <th>customer_age</th>\n",
       "      <th>job_type</th>\n",
       "      <th>marital</th>\n",
       "      <th>education</th>\n",
       "      <th>default</th>\n",
       "      <th>balance</th>\n",
       "      <th>housing_loan</th>\n",
       "      <th>personal_loan</th>\n",
       "      <th>communication_type</th>\n",
       "      <th>...</th>\n",
       "      <th>num_contacts_in_campaign</th>\n",
       "      <th>days_since_prev_campaign_contact</th>\n",
       "      <th>num_contacts_prev_campaign</th>\n",
       "      <th>prev_campaign_outcome</th>\n",
       "      <th>term_deposit_subscribed</th>\n",
       "      <th>spending_score</th>\n",
       "      <th>customer_age_cluster</th>\n",
       "      <th>balance_cluster</th>\n",
       "      <th>spending_score_cluster</th>\n",
       "      <th>OverallScore</th>\n",
       "    </tr>\n",
       "  </thead>\n",
       "  <tbody>\n",
       "    <tr>\n",
       "      <th>0</th>\n",
       "      <td>id_43823</td>\n",
       "      <td>28.0</td>\n",
       "      <td>management</td>\n",
       "      <td>single</td>\n",
       "      <td>tertiary</td>\n",
       "      <td>no</td>\n",
       "      <td>285.0</td>\n",
       "      <td>yes</td>\n",
       "      <td>no</td>\n",
       "      <td>email</td>\n",
       "      <td>...</td>\n",
       "      <td>4.0</td>\n",
       "      <td>0.0</td>\n",
       "      <td>0</td>\n",
       "      <td>unknown</td>\n",
       "      <td>0.0</td>\n",
       "      <td>40</td>\n",
       "      <td>1</td>\n",
       "      <td>0</td>\n",
       "      <td>0</td>\n",
       "      <td>1</td>\n",
       "    </tr>\n",
       "    <tr>\n",
       "      <th>1</th>\n",
       "      <td>id_32289</td>\n",
       "      <td>34.0</td>\n",
       "      <td>blue-collar</td>\n",
       "      <td>married</td>\n",
       "      <td>secondary</td>\n",
       "      <td>no</td>\n",
       "      <td>934.0</td>\n",
       "      <td>no</td>\n",
       "      <td>yes</td>\n",
       "      <td>cellular</td>\n",
       "      <td>...</td>\n",
       "      <td>2.0</td>\n",
       "      <td>132.0</td>\n",
       "      <td>1</td>\n",
       "      <td>other</td>\n",
       "      <td>0.0</td>\n",
       "      <td>83</td>\n",
       "      <td>1</td>\n",
       "      <td>0</td>\n",
       "      <td>1</td>\n",
       "      <td>2</td>\n",
       "    </tr>\n",
       "    <tr>\n",
       "      <th>2</th>\n",
       "      <td>id_10523</td>\n",
       "      <td>46.0</td>\n",
       "      <td>technician</td>\n",
       "      <td>married</td>\n",
       "      <td>secondary</td>\n",
       "      <td>no</td>\n",
       "      <td>656.0</td>\n",
       "      <td>no</td>\n",
       "      <td>no</td>\n",
       "      <td>cellular</td>\n",
       "      <td>...</td>\n",
       "      <td>4.0</td>\n",
       "      <td>0.0</td>\n",
       "      <td>0</td>\n",
       "      <td>unknown</td>\n",
       "      <td>0.0</td>\n",
       "      <td>12</td>\n",
       "      <td>0</td>\n",
       "      <td>0</td>\n",
       "      <td>2</td>\n",
       "      <td>2</td>\n",
       "    </tr>\n",
       "    <tr>\n",
       "      <th>3</th>\n",
       "      <td>id_43951</td>\n",
       "      <td>34.0</td>\n",
       "      <td>services</td>\n",
       "      <td>single</td>\n",
       "      <td>secondary</td>\n",
       "      <td>no</td>\n",
       "      <td>2.0</td>\n",
       "      <td>yes</td>\n",
       "      <td>no</td>\n",
       "      <td>email</td>\n",
       "      <td>...</td>\n",
       "      <td>3.0</td>\n",
       "      <td>0.0</td>\n",
       "      <td>0</td>\n",
       "      <td>unknown</td>\n",
       "      <td>0.0</td>\n",
       "      <td>81</td>\n",
       "      <td>1</td>\n",
       "      <td>0</td>\n",
       "      <td>1</td>\n",
       "      <td>2</td>\n",
       "    </tr>\n",
       "    <tr>\n",
       "      <th>4</th>\n",
       "      <td>id_40992</td>\n",
       "      <td>41.0</td>\n",
       "      <td>blue-collar</td>\n",
       "      <td>married</td>\n",
       "      <td>primary</td>\n",
       "      <td>no</td>\n",
       "      <td>1352.0</td>\n",
       "      <td>yes</td>\n",
       "      <td>no</td>\n",
       "      <td>cellular</td>\n",
       "      <td>...</td>\n",
       "      <td>2.0</td>\n",
       "      <td>0.0</td>\n",
       "      <td>0</td>\n",
       "      <td>unknown</td>\n",
       "      <td>0.0</td>\n",
       "      <td>80</td>\n",
       "      <td>1</td>\n",
       "      <td>0</td>\n",
       "      <td>1</td>\n",
       "      <td>2</td>\n",
       "    </tr>\n",
       "  </tbody>\n",
       "</table>\n",
       "<p>5 rows × 23 columns</p>\n",
       "</div>"
      ],
      "text/plain": [
       "         id  customer_age     job_type  marital  education default  balance  \\\n",
       "0  id_43823          28.0   management   single   tertiary      no    285.0   \n",
       "1  id_32289          34.0  blue-collar  married  secondary      no    934.0   \n",
       "2  id_10523          46.0   technician  married  secondary      no    656.0   \n",
       "3  id_43951          34.0     services   single  secondary      no      2.0   \n",
       "4  id_40992          41.0  blue-collar  married    primary      no   1352.0   \n",
       "\n",
       "  housing_loan personal_loan communication_type  ...  \\\n",
       "0          yes            no              email  ...   \n",
       "1           no           yes           cellular  ...   \n",
       "2           no            no           cellular  ...   \n",
       "3          yes            no              email  ...   \n",
       "4          yes            no           cellular  ...   \n",
       "\n",
       "   num_contacts_in_campaign days_since_prev_campaign_contact  \\\n",
       "0                       4.0                              0.0   \n",
       "1                       2.0                            132.0   \n",
       "2                       4.0                              0.0   \n",
       "3                       3.0                              0.0   \n",
       "4                       2.0                              0.0   \n",
       "\n",
       "   num_contacts_prev_campaign  prev_campaign_outcome  term_deposit_subscribed  \\\n",
       "0                           0                unknown                      0.0   \n",
       "1                           1                  other                      0.0   \n",
       "2                           0                unknown                      0.0   \n",
       "3                           0                unknown                      0.0   \n",
       "4                           0                unknown                      0.0   \n",
       "\n",
       "   spending_score customer_age_cluster  balance_cluster  \\\n",
       "0              40                    1                0   \n",
       "1              83                    1                0   \n",
       "2              12                    0                0   \n",
       "3              81                    1                0   \n",
       "4              80                    1                0   \n",
       "\n",
       "   spending_score_cluster  OverallScore  \n",
       "0                       0             1  \n",
       "1                       1             2  \n",
       "2                       2             2  \n",
       "3                       1             2  \n",
       "4                       1             2  \n",
       "\n",
       "[5 rows x 23 columns]"
      ]
     },
     "execution_count": 68,
     "metadata": {},
     "output_type": "execute_result"
    }
   ],
   "source": [
    "df.head()"
   ]
  },
  {
   "cell_type": "code",
   "execution_count": 69,
   "metadata": {},
   "outputs": [
    {
     "name": "stdout",
     "output_type": "stream",
     "text": [
      "shape of df (45211, 23)\n"
     ]
    }
   ],
   "source": [
    "print('shape of df {}'.format(df.shape))"
   ]
  },
  {
   "cell_type": "code",
   "execution_count": 70,
   "metadata": {},
   "outputs": [
    {
     "name": "stdout",
     "output_type": "stream",
     "text": [
      "<class 'pandas.core.frame.DataFrame'>\n",
      "RangeIndex: 45211 entries, 0 to 45210\n",
      "Data columns (total 23 columns):\n",
      " #   Column                            Non-Null Count  Dtype  \n",
      "---  ------                            --------------  -----  \n",
      " 0   id                                45211 non-null  object \n",
      " 1   customer_age                      45211 non-null  float64\n",
      " 2   job_type                          45211 non-null  object \n",
      " 3   marital                           45211 non-null  object \n",
      " 4   education                         45211 non-null  object \n",
      " 5   default                           45211 non-null  object \n",
      " 6   balance                           45211 non-null  float64\n",
      " 7   housing_loan                      45211 non-null  object \n",
      " 8   personal_loan                     45211 non-null  object \n",
      " 9   communication_type                45211 non-null  object \n",
      " 10  day_of_month                      45211 non-null  int64  \n",
      " 11  month                             45211 non-null  object \n",
      " 12  last_contact_duration             45211 non-null  float64\n",
      " 13  num_contacts_in_campaign          45211 non-null  float64\n",
      " 14  days_since_prev_campaign_contact  45211 non-null  float64\n",
      " 15  num_contacts_prev_campaign        45211 non-null  int64  \n",
      " 16  prev_campaign_outcome             45211 non-null  object \n",
      " 17  term_deposit_subscribed           45211 non-null  float64\n",
      " 18  spending_score                    45211 non-null  int64  \n",
      " 19  customer_age_cluster              45211 non-null  int64  \n",
      " 20  balance_cluster                   45211 non-null  int64  \n",
      " 21  spending_score_cluster            45211 non-null  int64  \n",
      " 22  OverallScore                      45211 non-null  int64  \n",
      "dtypes: float64(6), int64(7), object(10)\n",
      "memory usage: 7.9+ MB\n"
     ]
    }
   ],
   "source": [
    "df.info()"
   ]
  },
  {
   "cell_type": "code",
   "execution_count": 72,
   "metadata": {},
   "outputs": [
    {
     "data": {
      "text/plain": [
       "id                                  0\n",
       "customer_age                        0\n",
       "job_type                            0\n",
       "marital                             0\n",
       "education                           0\n",
       "default                             0\n",
       "balance                             0\n",
       "housing_loan                        0\n",
       "personal_loan                       0\n",
       "communication_type                  0\n",
       "day_of_month                        0\n",
       "month                               0\n",
       "last_contact_duration               0\n",
       "num_contacts_in_campaign            0\n",
       "days_since_prev_campaign_contact    0\n",
       "num_contacts_prev_campaign          0\n",
       "prev_campaign_outcome               0\n",
       "term_deposit_subscribed             0\n",
       "spending_score                      0\n",
       "customer_age_cluster                0\n",
       "balance_cluster                     0\n",
       "spending_score_cluster              0\n",
       "OverallScore                        0\n",
       "dtype: int64"
      ]
     },
     "execution_count": 72,
     "metadata": {},
     "output_type": "execute_result"
    }
   ],
   "source": [
    "# sum of null values\n",
    "\n",
    "df.isnull().sum()"
   ]
  },
  {
   "cell_type": "code",
   "execution_count": 73,
   "metadata": {},
   "outputs": [
    {
     "data": {
      "text/html": [
       "<div>\n",
       "<style scoped>\n",
       "    .dataframe tbody tr th:only-of-type {\n",
       "        vertical-align: middle;\n",
       "    }\n",
       "\n",
       "    .dataframe tbody tr th {\n",
       "        vertical-align: top;\n",
       "    }\n",
       "\n",
       "    .dataframe thead th {\n",
       "        text-align: right;\n",
       "    }\n",
       "</style>\n",
       "<table border=\"1\" class=\"dataframe\">\n",
       "  <thead>\n",
       "    <tr style=\"text-align: right;\">\n",
       "      <th></th>\n",
       "      <th>customer_age</th>\n",
       "      <th>balance</th>\n",
       "      <th>day_of_month</th>\n",
       "      <th>last_contact_duration</th>\n",
       "      <th>num_contacts_in_campaign</th>\n",
       "      <th>days_since_prev_campaign_contact</th>\n",
       "      <th>num_contacts_prev_campaign</th>\n",
       "      <th>term_deposit_subscribed</th>\n",
       "      <th>spending_score</th>\n",
       "      <th>customer_age_cluster</th>\n",
       "      <th>balance_cluster</th>\n",
       "      <th>spending_score_cluster</th>\n",
       "      <th>OverallScore</th>\n",
       "    </tr>\n",
       "  </thead>\n",
       "  <tbody>\n",
       "    <tr>\n",
       "      <th>count</th>\n",
       "      <td>45211.000000</td>\n",
       "      <td>45211.000000</td>\n",
       "      <td>45211.000000</td>\n",
       "      <td>45211.000000</td>\n",
       "      <td>45211.000000</td>\n",
       "      <td>45211.000000</td>\n",
       "      <td>45211.000000</td>\n",
       "      <td>45211.000000</td>\n",
       "      <td>45211.000000</td>\n",
       "      <td>45211.000000</td>\n",
       "      <td>45211.000000</td>\n",
       "      <td>45211.000000</td>\n",
       "      <td>45211.000000</td>\n",
       "    </tr>\n",
       "    <tr>\n",
       "      <th>mean</th>\n",
       "      <td>39.647342</td>\n",
       "      <td>1342.655836</td>\n",
       "      <td>15.806419</td>\n",
       "      <td>255.213200</td>\n",
       "      <td>2.753334</td>\n",
       "      <td>41.015195</td>\n",
       "      <td>0.580323</td>\n",
       "      <td>0.075070</td>\n",
       "      <td>53.030789</td>\n",
       "      <td>0.642078</td>\n",
       "      <td>0.389949</td>\n",
       "      <td>0.995090</td>\n",
       "      <td>2.027117</td>\n",
       "    </tr>\n",
       "    <tr>\n",
       "      <th>std</th>\n",
       "      <td>12.034303</td>\n",
       "      <td>2998.286959</td>\n",
       "      <td>8.322476</td>\n",
       "      <td>257.692091</td>\n",
       "      <td>3.090163</td>\n",
       "      <td>99.792615</td>\n",
       "      <td>2.303441</td>\n",
       "      <td>0.263508</td>\n",
       "      <td>26.810608</td>\n",
       "      <td>0.518793</td>\n",
       "      <td>0.990680</td>\n",
       "      <td>0.816455</td>\n",
       "      <td>1.360198</td>\n",
       "    </tr>\n",
       "    <tr>\n",
       "      <th>min</th>\n",
       "      <td>0.000000</td>\n",
       "      <td>-8020.000000</td>\n",
       "      <td>1.000000</td>\n",
       "      <td>0.000000</td>\n",
       "      <td>0.000000</td>\n",
       "      <td>0.000000</td>\n",
       "      <td>0.000000</td>\n",
       "      <td>0.000000</td>\n",
       "      <td>7.000000</td>\n",
       "      <td>0.000000</td>\n",
       "      <td>0.000000</td>\n",
       "      <td>0.000000</td>\n",
       "      <td>0.000000</td>\n",
       "    </tr>\n",
       "    <tr>\n",
       "      <th>25%</th>\n",
       "      <td>32.000000</td>\n",
       "      <td>60.000000</td>\n",
       "      <td>8.000000</td>\n",
       "      <td>100.000000</td>\n",
       "      <td>1.000000</td>\n",
       "      <td>0.000000</td>\n",
       "      <td>0.000000</td>\n",
       "      <td>0.000000</td>\n",
       "      <td>30.000000</td>\n",
       "      <td>0.000000</td>\n",
       "      <td>0.000000</td>\n",
       "      <td>0.000000</td>\n",
       "      <td>1.000000</td>\n",
       "    </tr>\n",
       "    <tr>\n",
       "      <th>50%</th>\n",
       "      <td>38.000000</td>\n",
       "      <td>434.000000</td>\n",
       "      <td>16.000000</td>\n",
       "      <td>178.000000</td>\n",
       "      <td>2.000000</td>\n",
       "      <td>0.000000</td>\n",
       "      <td>0.000000</td>\n",
       "      <td>0.000000</td>\n",
       "      <td>53.000000</td>\n",
       "      <td>1.000000</td>\n",
       "      <td>0.000000</td>\n",
       "      <td>1.000000</td>\n",
       "      <td>2.000000</td>\n",
       "    </tr>\n",
       "    <tr>\n",
       "      <th>75%</th>\n",
       "      <td>48.000000</td>\n",
       "      <td>1404.500000</td>\n",
       "      <td>21.000000</td>\n",
       "      <td>316.000000</td>\n",
       "      <td>3.000000</td>\n",
       "      <td>0.000000</td>\n",
       "      <td>0.000000</td>\n",
       "      <td>0.000000</td>\n",
       "      <td>76.000000</td>\n",
       "      <td>1.000000</td>\n",
       "      <td>0.000000</td>\n",
       "      <td>2.000000</td>\n",
       "      <td>3.000000</td>\n",
       "    </tr>\n",
       "    <tr>\n",
       "      <th>max</th>\n",
       "      <td>97.000000</td>\n",
       "      <td>102128.000000</td>\n",
       "      <td>31.000000</td>\n",
       "      <td>4900.000000</td>\n",
       "      <td>63.000000</td>\n",
       "      <td>871.000000</td>\n",
       "      <td>275.000000</td>\n",
       "      <td>1.000000</td>\n",
       "      <td>99.000000</td>\n",
       "      <td>2.000000</td>\n",
       "      <td>3.000000</td>\n",
       "      <td>2.000000</td>\n",
       "      <td>7.000000</td>\n",
       "    </tr>\n",
       "  </tbody>\n",
       "</table>\n",
       "</div>"
      ],
      "text/plain": [
       "       customer_age        balance  day_of_month  last_contact_duration  \\\n",
       "count  45211.000000   45211.000000  45211.000000           45211.000000   \n",
       "mean      39.647342    1342.655836     15.806419             255.213200   \n",
       "std       12.034303    2998.286959      8.322476             257.692091   \n",
       "min        0.000000   -8020.000000      1.000000               0.000000   \n",
       "25%       32.000000      60.000000      8.000000             100.000000   \n",
       "50%       38.000000     434.000000     16.000000             178.000000   \n",
       "75%       48.000000    1404.500000     21.000000             316.000000   \n",
       "max       97.000000  102128.000000     31.000000            4900.000000   \n",
       "\n",
       "       num_contacts_in_campaign  days_since_prev_campaign_contact  \\\n",
       "count              45211.000000                      45211.000000   \n",
       "mean                   2.753334                         41.015195   \n",
       "std                    3.090163                         99.792615   \n",
       "min                    0.000000                          0.000000   \n",
       "25%                    1.000000                          0.000000   \n",
       "50%                    2.000000                          0.000000   \n",
       "75%                    3.000000                          0.000000   \n",
       "max                   63.000000                        871.000000   \n",
       "\n",
       "       num_contacts_prev_campaign  term_deposit_subscribed  spending_score  \\\n",
       "count                45211.000000             45211.000000    45211.000000   \n",
       "mean                     0.580323                 0.075070       53.030789   \n",
       "std                      2.303441                 0.263508       26.810608   \n",
       "min                      0.000000                 0.000000        7.000000   \n",
       "25%                      0.000000                 0.000000       30.000000   \n",
       "50%                      0.000000                 0.000000       53.000000   \n",
       "75%                      0.000000                 0.000000       76.000000   \n",
       "max                    275.000000                 1.000000       99.000000   \n",
       "\n",
       "       customer_age_cluster  balance_cluster  spending_score_cluster  \\\n",
       "count          45211.000000     45211.000000            45211.000000   \n",
       "mean               0.642078         0.389949                0.995090   \n",
       "std                0.518793         0.990680                0.816455   \n",
       "min                0.000000         0.000000                0.000000   \n",
       "25%                0.000000         0.000000                0.000000   \n",
       "50%                1.000000         0.000000                1.000000   \n",
       "75%                1.000000         0.000000                2.000000   \n",
       "max                2.000000         3.000000                2.000000   \n",
       "\n",
       "       OverallScore  \n",
       "count  45211.000000  \n",
       "mean       2.027117  \n",
       "std        1.360198  \n",
       "min        0.000000  \n",
       "25%        1.000000  \n",
       "50%        2.000000  \n",
       "75%        3.000000  \n",
       "max        7.000000  "
      ]
     },
     "execution_count": 73,
     "metadata": {},
     "output_type": "execute_result"
    }
   ],
   "source": [
    "# summary statistics\n",
    "\n",
    "df.describe()"
   ]
  },
  {
   "cell_type": "markdown",
   "metadata": {},
   "source": [
    "### Basic Terminology:\n",
    "\n",
    "Customer Retention Rate = Total Customers from Campaign Subscribed / Total Customers Sent Communication\n",
    "\n",
    "Customer Churn Rate = 1 - Customer Retention Rate"
   ]
  },
  {
   "cell_type": "code",
   "execution_count": 74,
   "metadata": {},
   "outputs": [
    {
     "data": {
      "text/plain": [
       "unknown    36959\n",
       "failure     4901\n",
       "other       1840\n",
       "success     1511\n",
       "Name: prev_campaign_outcome, dtype: int64"
      ]
     },
     "execution_count": 74,
     "metadata": {},
     "output_type": "execute_result"
    }
   ],
   "source": [
    "previous_campaign = df['prev_campaign_outcome'].value_counts()\n",
    "previous_campaign"
   ]
  },
  {
   "cell_type": "code",
   "execution_count": 75,
   "metadata": {},
   "outputs": [
    {
     "data": {
      "text/plain": [
       "45211"
      ]
     },
     "execution_count": 75,
     "metadata": {},
     "output_type": "execute_result"
    }
   ],
   "source": [
    "total_count = df['prev_campaign_outcome'].count()\n",
    "total_count"
   ]
  },
  {
   "cell_type": "code",
   "execution_count": 76,
   "metadata": {},
   "outputs": [
    {
     "data": {
      "text/plain": [
       "0.0    41817\n",
       "1.0     3394\n",
       "Name: term_deposit_subscribed, dtype: int64"
      ]
     },
     "execution_count": 76,
     "metadata": {},
     "output_type": "execute_result"
    }
   ],
   "source": [
    "current_campaign = df['term_deposit_subscribed'].value_counts()\n",
    "current_campaign"
   ]
  },
  {
   "cell_type": "code",
   "execution_count": 77,
   "metadata": {},
   "outputs": [
    {
     "data": {
      "text/plain": [
       "0.0334210700935613"
      ]
     },
     "execution_count": 77,
     "metadata": {},
     "output_type": "execute_result"
    }
   ],
   "source": [
    "Retention_prev_camp = previous_campaign['success']/total_count\n",
    "Retention_prev_camp"
   ]
  },
  {
   "cell_type": "code",
   "execution_count": 78,
   "metadata": {},
   "outputs": [
    {
     "data": {
      "text/plain": [
       "0.07507022627236734"
      ]
     },
     "execution_count": 78,
     "metadata": {},
     "output_type": "execute_result"
    }
   ],
   "source": [
    "Retention_cur_camp = current_campaign[1]/total_count\n",
    "Retention_cur_camp"
   ]
  },
  {
   "cell_type": "markdown",
   "metadata": {},
   "source": [
    "### Loyal Customers\n",
    "\n",
    "Knowing how many loyal customers you have is crucial because they are the most valuable members of your customer base. That's because they're not only the ones that drive the most sales, but they're also the ones who are most likely to spread great word about your company. You can take advantage of opportunities to collect testimonials and increase consumer advocacy by identifying who these loyal customers are."
   ]
  },
  {
   "cell_type": "markdown",
   "metadata": {},
   "source": [
    "Loyal Customer Rate = Number of Repeat Customers / Total Customers"
   ]
  },
  {
   "cell_type": "code",
   "execution_count": 79,
   "metadata": {},
   "outputs": [
    {
     "data": {
      "text/html": [
       "<div>\n",
       "<style scoped>\n",
       "    .dataframe tbody tr th:only-of-type {\n",
       "        vertical-align: middle;\n",
       "    }\n",
       "\n",
       "    .dataframe tbody tr th {\n",
       "        vertical-align: top;\n",
       "    }\n",
       "\n",
       "    .dataframe thead tr th {\n",
       "        text-align: left;\n",
       "    }\n",
       "\n",
       "    .dataframe thead tr:last-of-type th {\n",
       "        text-align: right;\n",
       "    }\n",
       "</style>\n",
       "<table border=\"1\" class=\"dataframe\">\n",
       "  <thead>\n",
       "    <tr>\n",
       "      <th></th>\n",
       "      <th colspan=\"8\" halign=\"left\">customer_age</th>\n",
       "      <th colspan=\"2\" halign=\"left\">balance</th>\n",
       "      <th>...</th>\n",
       "      <th colspan=\"2\" halign=\"left\">spending_score_cluster</th>\n",
       "      <th colspan=\"8\" halign=\"left\">OverallScore</th>\n",
       "    </tr>\n",
       "    <tr>\n",
       "      <th></th>\n",
       "      <th>count</th>\n",
       "      <th>mean</th>\n",
       "      <th>std</th>\n",
       "      <th>min</th>\n",
       "      <th>25%</th>\n",
       "      <th>50%</th>\n",
       "      <th>75%</th>\n",
       "      <th>max</th>\n",
       "      <th>count</th>\n",
       "      <th>mean</th>\n",
       "      <th>...</th>\n",
       "      <th>75%</th>\n",
       "      <th>max</th>\n",
       "      <th>count</th>\n",
       "      <th>mean</th>\n",
       "      <th>std</th>\n",
       "      <th>min</th>\n",
       "      <th>25%</th>\n",
       "      <th>50%</th>\n",
       "      <th>75%</th>\n",
       "      <th>max</th>\n",
       "    </tr>\n",
       "    <tr>\n",
       "      <th>term_deposit_subscribed</th>\n",
       "      <th></th>\n",
       "      <th></th>\n",
       "      <th></th>\n",
       "      <th></th>\n",
       "      <th></th>\n",
       "      <th></th>\n",
       "      <th></th>\n",
       "      <th></th>\n",
       "      <th></th>\n",
       "      <th></th>\n",
       "      <th></th>\n",
       "      <th></th>\n",
       "      <th></th>\n",
       "      <th></th>\n",
       "      <th></th>\n",
       "      <th></th>\n",
       "      <th></th>\n",
       "      <th></th>\n",
       "      <th></th>\n",
       "      <th></th>\n",
       "      <th></th>\n",
       "    </tr>\n",
       "  </thead>\n",
       "  <tbody>\n",
       "    <tr>\n",
       "      <th>failure</th>\n",
       "      <td>41817.0</td>\n",
       "      <td>39.562044</td>\n",
       "      <td>11.788649</td>\n",
       "      <td>0.0</td>\n",
       "      <td>32.0</td>\n",
       "      <td>38.0</td>\n",
       "      <td>48.0</td>\n",
       "      <td>95.0</td>\n",
       "      <td>41817.0</td>\n",
       "      <td>1304.543104</td>\n",
       "      <td>...</td>\n",
       "      <td>2.0</td>\n",
       "      <td>2.0</td>\n",
       "      <td>41817.0</td>\n",
       "      <td>2.011957</td>\n",
       "      <td>1.352569</td>\n",
       "      <td>0.0</td>\n",
       "      <td>1.0</td>\n",
       "      <td>2.0</td>\n",
       "      <td>3.0</td>\n",
       "      <td>7.0</td>\n",
       "    </tr>\n",
       "    <tr>\n",
       "      <th>success</th>\n",
       "      <td>3394.0</td>\n",
       "      <td>40.698291</td>\n",
       "      <td>14.690009</td>\n",
       "      <td>0.0</td>\n",
       "      <td>31.0</td>\n",
       "      <td>38.0</td>\n",
       "      <td>50.0</td>\n",
       "      <td>97.0</td>\n",
       "      <td>3394.0</td>\n",
       "      <td>1812.237478</td>\n",
       "      <td>...</td>\n",
       "      <td>2.0</td>\n",
       "      <td>2.0</td>\n",
       "      <td>3394.0</td>\n",
       "      <td>2.213907</td>\n",
       "      <td>1.438052</td>\n",
       "      <td>0.0</td>\n",
       "      <td>1.0</td>\n",
       "      <td>2.0</td>\n",
       "      <td>3.0</td>\n",
       "      <td>7.0</td>\n",
       "    </tr>\n",
       "  </tbody>\n",
       "</table>\n",
       "<p>2 rows × 96 columns</p>\n",
       "</div>"
      ],
      "text/plain": [
       "                        customer_age                                         \\\n",
       "                               count       mean        std  min   25%   50%   \n",
       "term_deposit_subscribed                                                       \n",
       "failure                      41817.0  39.562044  11.788649  0.0  32.0  38.0   \n",
       "success                       3394.0  40.698291  14.690009  0.0  31.0  38.0   \n",
       "\n",
       "                                     balance               ...  \\\n",
       "                          75%   max    count         mean  ...   \n",
       "term_deposit_subscribed                                    ...   \n",
       "failure                  48.0  95.0  41817.0  1304.543104  ...   \n",
       "success                  50.0  97.0   3394.0  1812.237478  ...   \n",
       "\n",
       "                        spending_score_cluster      OverallScore            \\\n",
       "                                           75%  max        count      mean   \n",
       "term_deposit_subscribed                                                      \n",
       "failure                                    2.0  2.0      41817.0  2.011957   \n",
       "success                                    2.0  2.0       3394.0  2.213907   \n",
       "\n",
       "                                                            \n",
       "                              std  min  25%  50%  75%  max  \n",
       "term_deposit_subscribed                                     \n",
       "failure                  1.352569  0.0  1.0  2.0  3.0  7.0  \n",
       "success                  1.438052  0.0  1.0  2.0  3.0  7.0  \n",
       "\n",
       "[2 rows x 96 columns]"
      ]
     },
     "execution_count": 79,
     "metadata": {},
     "output_type": "execute_result"
    }
   ],
   "source": [
    "df.term_deposit_subscribed = df.term_deposit_subscribed.replace([0],'failure')\n",
    "df.term_deposit_subscribed = df.term_deposit_subscribed.replace([1],'success')\n",
    "df.groupby('term_deposit_subscribed').describe()"
   ]
  },
  {
   "cell_type": "code",
   "execution_count": 80,
   "metadata": {},
   "outputs": [],
   "source": [
    "c=0\n",
    "prev = df['prev_campaign_outcome']\n",
    "cur = df['term_deposit_subscribed']\n",
    "for x,y in zip(prev, cur):\n",
    "    if(x==y):\n",
    "        c+=1"
   ]
  },
  {
   "cell_type": "code",
   "execution_count": 83,
   "metadata": {},
   "outputs": [
    {
     "data": {
      "text/plain": [
       "0.8429143350069673"
      ]
     },
     "execution_count": 83,
     "metadata": {},
     "output_type": "execute_result"
    }
   ],
   "source": [
    "new_customers = (previous_campaign['success'] + current_campaign[0] - c)/total_count\n",
    "new_customers"
   ]
  },
  {
   "cell_type": "code",
   "execution_count": 84,
   "metadata": {},
   "outputs": [
    {
     "data": {
      "text/plain": [
       "0.15708566499303267"
      ]
     },
     "execution_count": 84,
     "metadata": {},
     "output_type": "execute_result"
    }
   ],
   "source": [
    "loyal_customers = 1 - (previous_campaign['success'] + current_campaign[0] - c)/total_count\n",
    "loyal_customers"
   ]
  }
 ],
 "metadata": {
  "kernelspec": {
   "display_name": "Python 3",
   "language": "python",
   "name": "python3"
  },
  "language_info": {
   "codemirror_mode": {
    "name": "ipython",
    "version": 3
   },
   "file_extension": ".py",
   "mimetype": "text/x-python",
   "name": "python",
   "nbconvert_exporter": "python",
   "pygments_lexer": "ipython3",
   "version": "3.8.5"
  }
 },
 "nbformat": 4,
 "nbformat_minor": 4
}
